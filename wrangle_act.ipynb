{
 "cells": [
  {
   "cell_type": "markdown",
   "metadata": {},
   "source": [
    "## Data Wrangling\n",
    "\n",
    "Table of contents\n",
    "\n",
    "- Gathering\n",
    "  - Twitter archive enhanced\n",
    "  - Tweet Image predictions\n",
    "  - Tweet Json Data using tweepy\n",
    "- Assesing\n",
    "  - Quality Issues\n",
    "  - Tidyness Issues\n",
    "- Cleaning\n",
    "\n",
    "### Gathering\n",
    "\n",
    "#### Twitter archive enhanced\n",
    "\n",
    "This data is located in a file named `twitter-archive-enhanced.csv`"
   ]
  },
  {
   "cell_type": "code",
   "execution_count": 1,
   "metadata": {},
   "outputs": [],
   "source": [
    "import pandas as pd\n",
    "import requests\n",
    "import io\n",
    "import tweepy\n",
    "import os\n",
    "import json\n",
    "import time\n",
    "\n",
    "import matplotlib.pyplot as plt\n",
    "import seaborn as sns\n",
    "\n",
    "# magic word for jupyter notebooks to enable inline plotting\n",
    "%matplotlib inline"
   ]
  },
  {
   "cell_type": "code",
   "execution_count": 2,
   "metadata": {},
   "outputs": [
    {
     "name": "stdout",
     "output_type": "stream",
     "text": [
      "<class 'pandas.core.frame.DataFrame'>\n",
      "RangeIndex: 2356 entries, 0 to 2355\n",
      "Data columns (total 17 columns):\n",
      "tweet_id                      2356 non-null int64\n",
      "in_reply_to_status_id         78 non-null float64\n",
      "in_reply_to_user_id           78 non-null float64\n",
      "timestamp                     2356 non-null object\n",
      "source                        2356 non-null object\n",
      "text                          2356 non-null object\n",
      "retweeted_status_id           181 non-null float64\n",
      "retweeted_status_user_id      181 non-null float64\n",
      "retweeted_status_timestamp    181 non-null object\n",
      "expanded_urls                 2297 non-null object\n",
      "rating_numerator              2356 non-null int64\n",
      "rating_denominator            2356 non-null int64\n",
      "name                          2356 non-null object\n",
      "doggo                         2356 non-null object\n",
      "floofer                       2356 non-null object\n",
      "pupper                        2356 non-null object\n",
      "puppo                         2356 non-null object\n",
      "dtypes: float64(4), int64(3), object(10)\n",
      "memory usage: 313.0+ KB\n"
     ]
    }
   ],
   "source": [
    "twitter_archive_enhanced = pd.read_csv(\"twitter-archive-enhanced.csv\")\n",
    "twitter_archive_enhanced.info()"
   ]
  },
  {
   "cell_type": "markdown",
   "metadata": {},
   "source": [
    "#### Tweet image predictions\n",
    "\n",
    "This file contains predictions genrated by a neural network. The file is hosted [here] (https://d17h27t6h515a5.cloudfront.net/topher/2017/August/599fd2ad_image-predictions/image-predictions.tsv) (Note that the seperator here is `\\t`)"
   ]
  },
  {
   "cell_type": "code",
   "execution_count": 3,
   "metadata": {},
   "outputs": [
    {
     "name": "stdout",
     "output_type": "stream",
     "text": [
      "<class 'pandas.core.frame.DataFrame'>\n",
      "RangeIndex: 2075 entries, 0 to 2074\n",
      "Data columns (total 12 columns):\n",
      "tweet_id    2075 non-null int64\n",
      "jpg_url     2075 non-null object\n",
      "img_num     2075 non-null int64\n",
      "p1          2075 non-null object\n",
      "p1_conf     2075 non-null float64\n",
      "p1_dog      2075 non-null bool\n",
      "p2          2075 non-null object\n",
      "p2_conf     2075 non-null float64\n",
      "p2_dog      2075 non-null bool\n",
      "p3          2075 non-null object\n",
      "p3_conf     2075 non-null float64\n",
      "p3_dog      2075 non-null bool\n",
      "dtypes: bool(3), float64(3), int64(2), object(4)\n",
      "memory usage: 152.1+ KB\n"
     ]
    }
   ],
   "source": [
    "image_predictions_file = \"image_predictions.tsv\"\n",
    "predictions_url = \"https://d17h27t6h515a5.cloudfront.net/topher/2017/August/599fd2ad_image-predictions/image-predictions.tsv\"\n",
    "with open(image_predictions_file, \"w\") as f:\n",
    "    f.write(requests.get(predictions_url).content.decode('utf-8'))\n",
    "\n",
    "tweet_image_predictions = pd.read_csv(image_predictions_file, sep=\"\\t\")\n",
    "tweet_image_predictions.info()"
   ]
  },
  {
   "cell_type": "markdown",
   "metadata": {},
   "source": [
    "#### Tweet json data using tweepy\n",
    "\n",
    "This is saved in a file named `tweet_json.txt` where each line corresponds to a single tweet data in json format. The json object has following fields:\n",
    "- tweet ID\n",
    "- retweet count\n",
    "- favorite count"
   ]
  },
  {
   "cell_type": "code",
   "execution_count": null,
   "metadata": {},
   "outputs": [],
   "source": [
    "# TODO : DELETE Secrets\n",
    "os.environ[\"API_KEY\"] = \"\"\n",
    "os.environ[\"API_SECRET_KEY\"] = \"\"\n",
    "os.environ[\"ACCESS_TOKEN\"] = \"\"\n",
    "os.environ[\"ACCESS_TOKEN_SECRET\"] = \"\""
   ]
  },
  {
   "cell_type": "code",
   "execution_count": null,
   "metadata": {},
   "outputs": [],
   "source": [
    "consumer_key = os.environ[\"API_KEY\"]\n",
    "consumer_secret = os.environ[\"API_SECRET_KEY\"]\n",
    "access_token = os.environ[\"ACCESS_TOKEN\"]\n",
    "access_secret = os.environ[\"ACCESS_TOKEN_SECRET\"]\n",
    "\n",
    "\n",
    "auth = tweepy.OAuthHandler(consumer_key, consumer_secret)\n",
    "auth.set_access_token(access_token, access_secret)\n",
    "\n",
    "api = tweepy.API(auth, wait_on_rate_limit_notify = True, wait_on_rate_limit = True)\n",
    "\n",
    "# Create a file named `tweet_json.txt` to save all the tweets. Each tweet goes on a new line.\n",
    "tweet_errors = {}\n",
    "with open(\"tweet_json.txt\",\"w+\") as f:\n",
    "    for tweet_id in twitter_archive_enhanced.tweet_id.unique():\n",
    "        start = time.time()\n",
    "        try:\n",
    "            tweet_data = api.get_status(tweet_id, tweet_mode='extended')\n",
    "        except Exception as e:\n",
    "            print(\"error fetching tweet {} : {}\".format(tweet_id, str(e)))\n",
    "            tweet_errors[\"{}\".format(tweet_id)] = e\n",
    "        json_tweet_data = json.dumps(tweet_data._json)\n",
    "        f.write(json_tweet_data)\n",
    "        f.write('\\n')\n",
    "        end = time.time()\n",
    "        print(\"Took {:0.2f}s for {} \\t\".format(end-start, tweet_id), end='')\n",
    "\n",
    "with open(\"tweet_json_errors.txt\",\"w+\") as f:\n",
    "    f.write(json.dumps(tweet_errors, indent = 2))"
   ]
  },
  {
   "cell_type": "code",
   "execution_count": 4,
   "metadata": {},
   "outputs": [
    {
     "name": "stdout",
     "output_type": "stream",
     "text": [
      "loaded {} tweets 2356\n",
      "<class 'pandas.core.frame.DataFrame'>\n",
      "RangeIndex: 2356 entries, 0 to 2355\n",
      "Data columns (total 3 columns):\n",
      "tweet_id          2356 non-null int64\n",
      "favorite_count    2356 non-null int64\n",
      "retweet_count     2356 non-null int64\n",
      "dtypes: int64(3)\n",
      "memory usage: 55.3 KB\n"
     ]
    }
   ],
   "source": [
    "# list of lists. each element contains three columns : tweet_id, fav count, retweet count\n",
    "tweets = []\n",
    "with open(\"tweet_json.txt\", \"r\") as f:\n",
    "    for line in f:\n",
    "        stripped_line = line.strip()\n",
    "        tweet_json = json.loads(stripped_line)\n",
    "        tweets.append([tweet_json[\"id\"], tweet_json[\"favorite_count\"], tweet_json[\"retweet_count\"]])\n",
    "print(\"loaded {} tweets\", len(tweets))\n",
    "tweepy_status_data = pd.DataFrame(tweets, columns = ['tweet_id', 'favorite_count', 'retweet_count'])\n",
    "tweepy_status_data.head(2)\n",
    "tweepy_status_data.info()"
   ]
  },
  {
   "cell_type": "markdown",
   "metadata": {},
   "source": [
    "### Assessing the data\n",
    "\n",
    "##### Quality Issues \n",
    "1. `twitter_archive_enhanced` has 181 retweets and 78 replies which can be dropped. (This is evident from `info()` call)\n",
    "2. `twitter_archive_enhanced` has 2356 rows while the `tweet_image_predictions` has 2075 rows. This could be probably because of the missing images, retweets etc.,\n",
    "3. Not all dogs have valid names. For example:\n",
    "   ```bash\n",
    "   > twitter_archive_enhanced.name.value_counts()\n",
    "   None        745\n",
    "   a            55\n",
    "   ```\n",
    "   This is not a serious quality issue but is definitely something to be aware of during our analysis.\n",
    "4. Only 2333 entires have a valid denominator of 10. Rest have a non standard value.\n",
    "5. The range of rating numerator varies from 0 to 1776 which is very strange even considering that we have a rating convention where numerator can be greater than denominator.\n",
    "6. The [Dogitionary](https://video.udacity-data.com/topher/2017/October/59e04ceb_dogtionary-combined/dogtionary-combined.png) categorizes the dogs in to six categories where as the dataset has only four categories.\n",
    "7. There are 1976 rows where the values for all the four columns `doggo`, `floofer`, `pupper`, and `puppo` are None. These dogs could be belonging to other two missing categories or were not rated. This data is missing.\n",
    "8. Columns `in_reply_to_status_id`, `in_reply_to_user_id`, `retweeted_status_user_id`, `retweeted_status_id` have a float datatype but they could have been strings which would have made it easier for parsing.\n",
    "9. `tweet_id` is integer. String would have been appropriate as we cannot perform any operations on `tweet_id` column. This is applicable for both `twitter_archive_enhanced` and `tweet_image_predictions` datasets.\n",
    "10. We can change the timestamp field to be a date object instead of string. This is not really something that could be fixed in the dataset because csv file would only support primitive data types. We don't need to handle this in here because our final result is again storing the dataset to a csv file.\n",
    "\n",
    "##### Tidyness issues\n",
    "1. The choice of datatype for the columns `doggo`, `floofer`, `pupper`, `puppo` is not chosen appropriately. Instead of writing `None` as empty string, if this were a boolean value it would have been easier to process the data. Even more, we don't need multiple columns for the categories. Just a single column that has a string value containing one of the dog categories would have sufficed.\n",
    "2. We have three columns p1_dog, p2_dog and p3_dog and each of those are boolean values that predict if the predictions is a dog or not. Since are only concerned about dogs, we can consolidate these columns in to one.\n",
    "3. `twitter_archive_enhanced` and `tweet_image_predictions` could have been in single dataset instead of two."
   ]
  },
  {
   "cell_type": "code",
   "execution_count": 5,
   "metadata": {},
   "outputs": [
    {
     "name": "stdout",
     "output_type": "stream",
     "text": [
      "<class 'pandas.core.frame.DataFrame'>\n",
      "RangeIndex: 2356 entries, 0 to 2355\n",
      "Data columns (total 17 columns):\n",
      "tweet_id                      2356 non-null int64\n",
      "in_reply_to_status_id         78 non-null float64\n",
      "in_reply_to_user_id           78 non-null float64\n",
      "timestamp                     2356 non-null object\n",
      "source                        2356 non-null object\n",
      "text                          2356 non-null object\n",
      "retweeted_status_id           181 non-null float64\n",
      "retweeted_status_user_id      181 non-null float64\n",
      "retweeted_status_timestamp    181 non-null object\n",
      "expanded_urls                 2297 non-null object\n",
      "rating_numerator              2356 non-null int64\n",
      "rating_denominator            2356 non-null int64\n",
      "name                          2356 non-null object\n",
      "doggo                         2356 non-null object\n",
      "floofer                       2356 non-null object\n",
      "pupper                        2356 non-null object\n",
      "puppo                         2356 non-null object\n",
      "dtypes: float64(4), int64(3), object(10)\n",
      "memory usage: 313.0+ KB\n"
     ]
    }
   ],
   "source": [
    "twitter_archive_enhanced.info()"
   ]
  },
  {
   "cell_type": "code",
   "execution_count": 6,
   "metadata": {},
   "outputs": [
    {
     "data": {
      "text/plain": [
       "None       745\n",
       "a           55\n",
       "Charlie     12\n",
       "Name: name, dtype: int64"
      ]
     },
     "execution_count": 6,
     "metadata": {},
     "output_type": "execute_result"
    }
   ],
   "source": [
    "twitter_archive_enhanced.name.value_counts().head(3)"
   ]
  },
  {
   "cell_type": "code",
   "execution_count": 7,
   "metadata": {},
   "outputs": [
    {
     "data": {
      "text/plain": [
       "10     2333\n",
       "11        3\n",
       "50        3\n",
       "80        2\n",
       "20        2\n",
       "2         1\n",
       "16        1\n",
       "40        1\n",
       "70        1\n",
       "15        1\n",
       "90        1\n",
       "110       1\n",
       "120       1\n",
       "130       1\n",
       "150       1\n",
       "170       1\n",
       "7         1\n",
       "0         1\n",
       "Name: rating_denominator, dtype: int64"
      ]
     },
     "execution_count": 7,
     "metadata": {},
     "output_type": "execute_result"
    }
   ],
   "source": [
    "twitter_archive_enhanced.rating_denominator.value_counts()"
   ]
  },
  {
   "cell_type": "code",
   "execution_count": 8,
   "metadata": {},
   "outputs": [
    {
     "data": {
      "text/plain": [
       "12      558\n",
       "11      464\n",
       "10      461\n",
       "13      351\n",
       "9       158\n",
       "8       102\n",
       "7        55\n",
       "14       54\n",
       "5        37\n",
       "6        32\n",
       "3        19\n",
       "4        17\n",
       "1         9\n",
       "2         9\n",
       "420       2\n",
       "0         2\n",
       "15        2\n",
       "75        2\n",
       "80        1\n",
       "20        1\n",
       "24        1\n",
       "26        1\n",
       "44        1\n",
       "50        1\n",
       "60        1\n",
       "165       1\n",
       "84        1\n",
       "88        1\n",
       "144       1\n",
       "182       1\n",
       "143       1\n",
       "666       1\n",
       "960       1\n",
       "1776      1\n",
       "17        1\n",
       "27        1\n",
       "45        1\n",
       "99        1\n",
       "121       1\n",
       "204       1\n",
       "Name: rating_numerator, dtype: int64"
      ]
     },
     "execution_count": 8,
     "metadata": {},
     "output_type": "execute_result"
    }
   ],
   "source": [
    "twitter_archive_enhanced.rating_numerator.value_counts()"
   ]
  },
  {
   "cell_type": "code",
   "execution_count": 9,
   "metadata": {},
   "outputs": [
    {
     "data": {
      "text/plain": [
       "tweet_id                      1976\n",
       "in_reply_to_status_id           70\n",
       "in_reply_to_user_id             70\n",
       "timestamp                     1976\n",
       "source                        1976\n",
       "text                          1976\n",
       "retweeted_status_id            145\n",
       "retweeted_status_user_id       145\n",
       "retweeted_status_timestamp     145\n",
       "expanded_urls                 1923\n",
       "rating_numerator              1976\n",
       "rating_denominator            1976\n",
       "name                          1976\n",
       "doggo                         1976\n",
       "floofer                       1976\n",
       "pupper                        1976\n",
       "puppo                         1976\n",
       "dtype: int64"
      ]
     },
     "execution_count": 9,
     "metadata": {},
     "output_type": "execute_result"
    }
   ],
   "source": [
    "twitter_archive_enhanced.query(\"doggo == 'None'\").query(\"floofer == 'None'\").query(\"pupper == 'None'\").query(\"puppo == 'None'\").count()"
   ]
  },
  {
   "cell_type": "code",
   "execution_count": 10,
   "metadata": {},
   "outputs": [
    {
     "data": {
      "text/plain": [
       "<a href=\"http://twitter.com/download/iphone\" rel=\"nofollow\">Twitter for iPhone</a>     2221\n",
       "<a href=\"http://vine.co\" rel=\"nofollow\">Vine - Make a Scene</a>                          91\n",
       "<a href=\"http://twitter.com\" rel=\"nofollow\">Twitter Web Client</a>                       33\n",
       "<a href=\"https://about.twitter.com/products/tweetdeck\" rel=\"nofollow\">TweetDeck</a>      11\n",
       "Name: source, dtype: int64"
      ]
     },
     "execution_count": 10,
     "metadata": {},
     "output_type": "execute_result"
    }
   ],
   "source": [
    "twitter_archive_enhanced.source.value_counts()"
   ]
  },
  {
   "cell_type": "code",
   "execution_count": 11,
   "metadata": {},
   "outputs": [
    {
     "name": "stdout",
     "output_type": "stream",
     "text": [
      "<class 'pandas.core.frame.DataFrame'>\n",
      "RangeIndex: 2075 entries, 0 to 2074\n",
      "Data columns (total 12 columns):\n",
      "tweet_id    2075 non-null int64\n",
      "jpg_url     2075 non-null object\n",
      "img_num     2075 non-null int64\n",
      "p1          2075 non-null object\n",
      "p1_conf     2075 non-null float64\n",
      "p1_dog      2075 non-null bool\n",
      "p2          2075 non-null object\n",
      "p2_conf     2075 non-null float64\n",
      "p2_dog      2075 non-null bool\n",
      "p3          2075 non-null object\n",
      "p3_conf     2075 non-null float64\n",
      "p3_dog      2075 non-null bool\n",
      "dtypes: bool(3), float64(3), int64(2), object(4)\n",
      "memory usage: 152.1+ KB\n"
     ]
    }
   ],
   "source": [
    "tweet_image_predictions.info()"
   ]
  },
  {
   "cell_type": "markdown",
   "metadata": {},
   "source": [
    "### Cleaning the data\n",
    "\n",
    "Lets address the quality concerns first and then we can tidy up our data. As a first step, lets merge all our dataframes in to a single master dataframe. This also addresses Tidyness issue #2"
   ]
  },
  {
   "cell_type": "markdown",
   "metadata": {},
   "source": [
    "#### Make a copy of the original dataframes"
   ]
  },
  {
   "cell_type": "code",
   "execution_count": 12,
   "metadata": {},
   "outputs": [],
   "source": [
    "twitter_archive_enhanced_copy = twitter_archive_enhanced.copy()\n",
    "tweepy_status_data_copy = tweepy_status_data.copy()\n",
    "tweet_image_predictions_copy = tweet_image_predictions.copy()"
   ]
  },
  {
   "cell_type": "markdown",
   "metadata": {},
   "source": [
    "##### Define cleaning issue - Merge all dataframes into one\n",
    "\n",
    "We currently have three dataframes depicting various data, but since we are analyzing tweets and each tweet have a unique tweet id, we can use the tweet id as a sort of primary key to merge all our dataframes into one. Since we already make copies of our original dataframes, we should be able to recover in case something goes wrong.\n",
    "\n",
    "##### Code cleaning issue - Merge all dataframes into one"
   ]
  },
  {
   "cell_type": "code",
   "execution_count": 13,
   "metadata": {},
   "outputs": [
    {
     "name": "stdout",
     "output_type": "stream",
     "text": [
      "<class 'pandas.core.frame.DataFrame'>\n",
      "Int64Index: 2381 entries, 0 to 2380\n",
      "Data columns (total 19 columns):\n",
      "tweet_id                      2381 non-null int64\n",
      "in_reply_to_status_id         79 non-null float64\n",
      "in_reply_to_user_id           79 non-null float64\n",
      "timestamp                     2381 non-null object\n",
      "source                        2381 non-null object\n",
      "text                          2381 non-null object\n",
      "retweeted_status_id           182 non-null float64\n",
      "retweeted_status_user_id      182 non-null float64\n",
      "retweeted_status_timestamp    182 non-null object\n",
      "expanded_urls                 2322 non-null object\n",
      "rating_numerator              2381 non-null int64\n",
      "rating_denominator            2381 non-null int64\n",
      "name                          2381 non-null object\n",
      "doggo                         2381 non-null object\n",
      "floofer                       2381 non-null object\n",
      "pupper                        2381 non-null object\n",
      "puppo                         2381 non-null object\n",
      "favorite_count                2356 non-null float64\n",
      "retweet_count                 2356 non-null float64\n",
      "dtypes: float64(6), int64(3), object(10)\n",
      "memory usage: 372.0+ KB\n"
     ]
    }
   ],
   "source": [
    "# Merge the initial archive given to us with the json data fetched using the twitter API\n",
    "archive_enriched_df = pd.merge(twitter_archive_enhanced_copy, tweepy_status_data_copy, on=['tweet_id','tweet_id'], how='left')\n",
    "archive_enriched_df.info()"
   ]
  },
  {
   "cell_type": "markdown",
   "metadata": {},
   "source": [
    "Note that while we have 2381 rows in the original dataset we only have 2356 non null values for `favorite_count` and `retweet_count` because we were unable to fetch the json data for all the tweets using the twitter API. The error codes are listed in a file named `tweet_json_errors.txt` for reference on failures.\n",
    "\n",
    "Now, we can merge this new dataframe with the image predictions dataframe."
   ]
  },
  {
   "cell_type": "code",
   "execution_count": 14,
   "metadata": {},
   "outputs": [
    {
     "name": "stdout",
     "output_type": "stream",
     "text": [
      "<class 'pandas.core.frame.DataFrame'>\n",
      "Int64Index: 2381 entries, 0 to 2380\n",
      "Data columns (total 30 columns):\n",
      "tweet_id                      2381 non-null int64\n",
      "in_reply_to_status_id         79 non-null float64\n",
      "in_reply_to_user_id           79 non-null float64\n",
      "timestamp                     2381 non-null object\n",
      "source                        2381 non-null object\n",
      "text                          2381 non-null object\n",
      "retweeted_status_id           182 non-null float64\n",
      "retweeted_status_user_id      182 non-null float64\n",
      "retweeted_status_timestamp    182 non-null object\n",
      "expanded_urls                 2322 non-null object\n",
      "rating_numerator              2381 non-null int64\n",
      "rating_denominator            2381 non-null int64\n",
      "name                          2381 non-null object\n",
      "doggo                         2381 non-null object\n",
      "floofer                       2381 non-null object\n",
      "pupper                        2381 non-null object\n",
      "puppo                         2381 non-null object\n",
      "favorite_count                2356 non-null float64\n",
      "retweet_count                 2356 non-null float64\n",
      "jpg_url                       2098 non-null object\n",
      "img_num                       2098 non-null float64\n",
      "p1                            2098 non-null object\n",
      "p1_conf                       2098 non-null float64\n",
      "p1_dog                        2098 non-null object\n",
      "p2                            2098 non-null object\n",
      "p2_conf                       2098 non-null float64\n",
      "p2_dog                        2098 non-null object\n",
      "p3                            2098 non-null object\n",
      "p3_conf                       2098 non-null float64\n",
      "p3_dog                        2098 non-null object\n",
      "dtypes: float64(10), int64(3), object(17)\n",
      "memory usage: 576.6+ KB\n"
     ]
    }
   ],
   "source": [
    "df = pd.merge(archive_enriched_df, tweet_image_predictions_copy, on=['tweet_id','tweet_id'], how='left')\n",
    "df.to_csv(\"raw_twitter_archive_master.csv\", encoding='utf-8', index=False)\n",
    "df.info()"
   ]
  },
  {
   "cell_type": "markdown",
   "metadata": {},
   "source": [
    "##### Test cleaning issue - Merge all dataframes into one"
   ]
  },
  {
   "cell_type": "code",
   "execution_count": 15,
   "metadata": {},
   "outputs": [
    {
     "data": {
      "text/html": [
       "<div>\n",
       "<style scoped>\n",
       "    .dataframe tbody tr th:only-of-type {\n",
       "        vertical-align: middle;\n",
       "    }\n",
       "\n",
       "    .dataframe tbody tr th {\n",
       "        vertical-align: top;\n",
       "    }\n",
       "\n",
       "    .dataframe thead th {\n",
       "        text-align: right;\n",
       "    }\n",
       "</style>\n",
       "<table border=\"1\" class=\"dataframe\">\n",
       "  <thead>\n",
       "    <tr style=\"text-align: right;\">\n",
       "      <th></th>\n",
       "      <th>tweet_id</th>\n",
       "      <th>in_reply_to_status_id</th>\n",
       "      <th>in_reply_to_user_id</th>\n",
       "      <th>timestamp</th>\n",
       "      <th>source</th>\n",
       "      <th>text</th>\n",
       "      <th>retweeted_status_id</th>\n",
       "      <th>retweeted_status_user_id</th>\n",
       "      <th>retweeted_status_timestamp</th>\n",
       "      <th>expanded_urls</th>\n",
       "      <th>...</th>\n",
       "      <th>img_num</th>\n",
       "      <th>p1</th>\n",
       "      <th>p1_conf</th>\n",
       "      <th>p1_dog</th>\n",
       "      <th>p2</th>\n",
       "      <th>p2_conf</th>\n",
       "      <th>p2_dog</th>\n",
       "      <th>p3</th>\n",
       "      <th>p3_conf</th>\n",
       "      <th>p3_dog</th>\n",
       "    </tr>\n",
       "  </thead>\n",
       "  <tbody>\n",
       "    <tr>\n",
       "      <th>2039</th>\n",
       "      <td>672222792075620352</td>\n",
       "      <td>NaN</td>\n",
       "      <td>NaN</td>\n",
       "      <td>2015-12-03 01:16:17 +0000</td>\n",
       "      <td>&lt;a href=\"http://twitter.com/download/iphone\" r...</td>\n",
       "      <td>This is Cal. He's a Swedish Geriatric Cheddar....</td>\n",
       "      <td>NaN</td>\n",
       "      <td>NaN</td>\n",
       "      <td>NaN</td>\n",
       "      <td>https://twitter.com/dog_rates/status/672222792...</td>\n",
       "      <td>...</td>\n",
       "      <td>1.0</td>\n",
       "      <td>beagle</td>\n",
       "      <td>0.958178</td>\n",
       "      <td>True</td>\n",
       "      <td>basset</td>\n",
       "      <td>0.009117</td>\n",
       "      <td>True</td>\n",
       "      <td>Italian_greyhound</td>\n",
       "      <td>0.007731</td>\n",
       "      <td>True</td>\n",
       "    </tr>\n",
       "    <tr>\n",
       "      <th>269</th>\n",
       "      <td>843604394117681152</td>\n",
       "      <td>NaN</td>\n",
       "      <td>NaN</td>\n",
       "      <td>2017-03-19 23:25:35 +0000</td>\n",
       "      <td>&lt;a href=\"http://twitter.com/download/iphone\" r...</td>\n",
       "      <td>This is Hank. He's been outside for 3 minutes ...</td>\n",
       "      <td>NaN</td>\n",
       "      <td>NaN</td>\n",
       "      <td>NaN</td>\n",
       "      <td>https://twitter.com/dog_rates/status/843604394...</td>\n",
       "      <td>...</td>\n",
       "      <td>1.0</td>\n",
       "      <td>Labrador_retriever</td>\n",
       "      <td>0.430583</td>\n",
       "      <td>True</td>\n",
       "      <td>golden_retriever</td>\n",
       "      <td>0.263581</td>\n",
       "      <td>True</td>\n",
       "      <td>Great_Pyrenees</td>\n",
       "      <td>0.179385</td>\n",
       "      <td>True</td>\n",
       "    </tr>\n",
       "  </tbody>\n",
       "</table>\n",
       "<p>2 rows × 30 columns</p>\n",
       "</div>"
      ],
      "text/plain": [
       "                tweet_id  in_reply_to_status_id  in_reply_to_user_id  \\\n",
       "2039  672222792075620352                    NaN                  NaN   \n",
       "269   843604394117681152                    NaN                  NaN   \n",
       "\n",
       "                      timestamp  \\\n",
       "2039  2015-12-03 01:16:17 +0000   \n",
       "269   2017-03-19 23:25:35 +0000   \n",
       "\n",
       "                                                 source  \\\n",
       "2039  <a href=\"http://twitter.com/download/iphone\" r...   \n",
       "269   <a href=\"http://twitter.com/download/iphone\" r...   \n",
       "\n",
       "                                                   text  retweeted_status_id  \\\n",
       "2039  This is Cal. He's a Swedish Geriatric Cheddar....                  NaN   \n",
       "269   This is Hank. He's been outside for 3 minutes ...                  NaN   \n",
       "\n",
       "      retweeted_status_user_id retweeted_status_timestamp  \\\n",
       "2039                       NaN                        NaN   \n",
       "269                        NaN                        NaN   \n",
       "\n",
       "                                          expanded_urls  ...    img_num  \\\n",
       "2039  https://twitter.com/dog_rates/status/672222792...  ...        1.0   \n",
       "269   https://twitter.com/dog_rates/status/843604394...  ...        1.0   \n",
       "\n",
       "                      p1   p1_conf p1_dog                p2   p2_conf p2_dog  \\\n",
       "2039              beagle  0.958178   True            basset  0.009117   True   \n",
       "269   Labrador_retriever  0.430583   True  golden_retriever  0.263581   True   \n",
       "\n",
       "                     p3   p3_conf p3_dog  \n",
       "2039  Italian_greyhound  0.007731   True  \n",
       "269      Great_Pyrenees  0.179385   True  \n",
       "\n",
       "[2 rows x 30 columns]"
      ]
     },
     "execution_count": 15,
     "metadata": {},
     "output_type": "execute_result"
    }
   ],
   "source": [
    "df.sample(2)"
   ]
  },
  {
   "cell_type": "markdown",
   "metadata": {},
   "source": [
    "\n",
    "##### Define cleaning issue - Remove retweets\n",
    "\n",
    "Now that we have a single dataframe that has all our datasets, we can start with the cleaning process. Let's addrress the missing values first.\n",
    "\n",
    "Rows with non null column values for the following columns can be dropped as they are retweets which we are not interested in:\n",
    "- `retweeted_status_id`\n",
    "- `retweeted_status_user_id`\n",
    "- `retweeted_status_timestamp`\n",
    "\n",
    "##### Code - Remove retweets"
   ]
  },
  {
   "cell_type": "code",
   "execution_count": 16,
   "metadata": {},
   "outputs": [],
   "source": [
    "df = df[df.retweeted_status_id.isnull()]"
   ]
  },
  {
   "cell_type": "markdown",
   "metadata": {},
   "source": [
    "##### Test retweets are gone"
   ]
  },
  {
   "cell_type": "code",
   "execution_count": 17,
   "metadata": {},
   "outputs": [
    {
     "name": "stdout",
     "output_type": "stream",
     "text": [
      "<class 'pandas.core.frame.DataFrame'>\n",
      "Int64Index: 2199 entries, 0 to 2380\n",
      "Data columns (total 27 columns):\n",
      "tweet_id                 2199 non-null int64\n",
      "in_reply_to_status_id    79 non-null float64\n",
      "in_reply_to_user_id      79 non-null float64\n",
      "timestamp                2199 non-null object\n",
      "source                   2199 non-null object\n",
      "text                     2199 non-null object\n",
      "expanded_urls            2141 non-null object\n",
      "rating_numerator         2199 non-null int64\n",
      "rating_denominator       2199 non-null int64\n",
      "name                     2199 non-null object\n",
      "doggo                    2199 non-null object\n",
      "floofer                  2199 non-null object\n",
      "pupper                   2199 non-null object\n",
      "puppo                    2199 non-null object\n",
      "favorite_count           2192 non-null float64\n",
      "retweet_count            2192 non-null float64\n",
      "jpg_url                  2017 non-null object\n",
      "img_num                  2017 non-null float64\n",
      "p1                       2017 non-null object\n",
      "p1_conf                  2017 non-null float64\n",
      "p1_dog                   2017 non-null object\n",
      "p2                       2017 non-null object\n",
      "p2_conf                  2017 non-null float64\n",
      "p2_dog                   2017 non-null object\n",
      "p3                       2017 non-null object\n",
      "p3_conf                  2017 non-null float64\n",
      "p3_dog                   2017 non-null object\n",
      "dtypes: float64(8), int64(3), object(16)\n",
      "memory usage: 481.0+ KB\n"
     ]
    }
   ],
   "source": [
    "assert df.retweeted_status_id.value_counts().empty\n",
    "assert df.retweeted_status_user_id.value_counts().empty\n",
    "assert df.retweeted_status_timestamp.value_counts().empty\n",
    "\n",
    "df.drop(columns=['retweeted_status_id', 'retweeted_status_user_id', 'retweeted_status_timestamp'], axis=1, inplace=True, errors='ignore')\n",
    "df.info()"
   ]
  },
  {
   "cell_type": "markdown",
   "metadata": {},
   "source": [
    "##### Define cleaning issue - Remove replies\n",
    "Same applies for following columns which indicates if a row is corresponding to a reply. We do not need replies as well:\n",
    "\n",
    "- `in_reply_to_user_id`\n",
    "- `in_reply_to_status_id`\n",
    "\n",
    "##### Code cleaning issue - Remove replies"
   ]
  },
  {
   "cell_type": "code",
   "execution_count": 18,
   "metadata": {},
   "outputs": [],
   "source": [
    "df = df[df.in_reply_to_user_id.isnull()]"
   ]
  },
  {
   "cell_type": "markdown",
   "metadata": {},
   "source": [
    "##### Test cleaning issue - Remove replies"
   ]
  },
  {
   "cell_type": "code",
   "execution_count": 19,
   "metadata": {},
   "outputs": [
    {
     "name": "stdout",
     "output_type": "stream",
     "text": [
      "<class 'pandas.core.frame.DataFrame'>\n",
      "Int64Index: 2120 entries, 0 to 2380\n",
      "Data columns (total 25 columns):\n",
      "tweet_id              2120 non-null int64\n",
      "timestamp             2120 non-null object\n",
      "source                2120 non-null object\n",
      "text                  2120 non-null object\n",
      "expanded_urls         2117 non-null object\n",
      "rating_numerator      2120 non-null int64\n",
      "rating_denominator    2120 non-null int64\n",
      "name                  2120 non-null object\n",
      "doggo                 2120 non-null object\n",
      "floofer               2120 non-null object\n",
      "pupper                2120 non-null object\n",
      "puppo                 2120 non-null object\n",
      "favorite_count        2113 non-null float64\n",
      "retweet_count         2113 non-null float64\n",
      "jpg_url               1993 non-null object\n",
      "img_num               1993 non-null float64\n",
      "p1                    1993 non-null object\n",
      "p1_conf               1993 non-null float64\n",
      "p1_dog                1993 non-null object\n",
      "p2                    1993 non-null object\n",
      "p2_conf               1993 non-null float64\n",
      "p2_dog                1993 non-null object\n",
      "p3                    1993 non-null object\n",
      "p3_conf               1993 non-null float64\n",
      "p3_dog                1993 non-null object\n",
      "dtypes: float64(6), int64(3), object(16)\n",
      "memory usage: 430.6+ KB\n"
     ]
    }
   ],
   "source": [
    "assert df.in_reply_to_user_id.value_counts().empty\n",
    "assert df.in_reply_to_status_id.value_counts().empty\n",
    "\n",
    "df.drop(columns=['in_reply_to_user_id', 'in_reply_to_status_id'], axis=1, inplace=True, errors='ignore')\n",
    "df.info()"
   ]
  },
  {
   "cell_type": "markdown",
   "metadata": {},
   "source": [
    "##### Define cleaning issue - Remove rows with empty `jpg_url`\n",
    "\n",
    "After getting rid of all the retweets and replies we still have 120 rows with an empty value for `jpg_url` column. As this is a mandatory field, we can drop the rows for which the value of `jpg_url` is null.\n",
    "\n",
    "\n",
    "##### Code cleaning issue - Remove rows with empty `jpg_url`"
   ]
  },
  {
   "cell_type": "code",
   "execution_count": 20,
   "metadata": {},
   "outputs": [
    {
     "name": "stdout",
     "output_type": "stream",
     "text": [
      "<class 'pandas.core.frame.DataFrame'>\n",
      "Int64Index: 1993 entries, 0 to 2380\n",
      "Data columns (total 25 columns):\n",
      "tweet_id              1993 non-null int64\n",
      "timestamp             1993 non-null object\n",
      "source                1993 non-null object\n",
      "text                  1993 non-null object\n",
      "expanded_urls         1993 non-null object\n",
      "rating_numerator      1993 non-null int64\n",
      "rating_denominator    1993 non-null int64\n",
      "name                  1993 non-null object\n",
      "doggo                 1993 non-null object\n",
      "floofer               1993 non-null object\n",
      "pupper                1993 non-null object\n",
      "puppo                 1993 non-null object\n",
      "favorite_count        1986 non-null float64\n",
      "retweet_count         1986 non-null float64\n",
      "jpg_url               1993 non-null object\n",
      "img_num               1993 non-null float64\n",
      "p1                    1993 non-null object\n",
      "p1_conf               1993 non-null float64\n",
      "p1_dog                1993 non-null object\n",
      "p2                    1993 non-null object\n",
      "p2_conf               1993 non-null float64\n",
      "p2_dog                1993 non-null object\n",
      "p3                    1993 non-null object\n",
      "p3_conf               1993 non-null float64\n",
      "p3_dog                1993 non-null object\n",
      "dtypes: float64(6), int64(3), object(16)\n",
      "memory usage: 404.8+ KB\n"
     ]
    }
   ],
   "source": [
    "df = df[~df.jpg_url.isnull()]\n",
    "df.info()"
   ]
  },
  {
   "cell_type": "markdown",
   "metadata": {},
   "source": [
    "##### Test cleaning issue - Remove rows with empty `jpg_url`"
   ]
  },
  {
   "cell_type": "code",
   "execution_count": 21,
   "metadata": {},
   "outputs": [],
   "source": [
    "assert df.jpg_url.isnull().sum() == 0"
   ]
  },
  {
   "cell_type": "markdown",
   "metadata": {},
   "source": [
    "##### Define Cleaning issue - Remove rows with null value for favorite_count and retweet_count\n",
    "\n",
    "We still have 7 entries that have NaN values for favorite_count and retweet_count. These could have come from the errors caused during `get_status` call. Let's drop these as well.\n",
    "\n",
    "##### Code Cleaning issue - Remove rows with null value for favorite_count and retweet_count"
   ]
  },
  {
   "cell_type": "code",
   "execution_count": 22,
   "metadata": {},
   "outputs": [],
   "source": [
    "df = df[df.retweet_count.notnull()]"
   ]
  },
  {
   "cell_type": "markdown",
   "metadata": {},
   "source": [
    "##### Test Cleaning issue - Remove rows with null value for favorite_count and retweet_count"
   ]
  },
  {
   "cell_type": "code",
   "execution_count": 23,
   "metadata": {},
   "outputs": [
    {
     "name": "stdout",
     "output_type": "stream",
     "text": [
      "<class 'pandas.core.frame.DataFrame'>\n",
      "Int64Index: 1986 entries, 0 to 2380\n",
      "Data columns (total 25 columns):\n",
      "tweet_id              1986 non-null int64\n",
      "timestamp             1986 non-null object\n",
      "source                1986 non-null object\n",
      "text                  1986 non-null object\n",
      "expanded_urls         1986 non-null object\n",
      "rating_numerator      1986 non-null int64\n",
      "rating_denominator    1986 non-null int64\n",
      "name                  1986 non-null object\n",
      "doggo                 1986 non-null object\n",
      "floofer               1986 non-null object\n",
      "pupper                1986 non-null object\n",
      "puppo                 1986 non-null object\n",
      "favorite_count        1986 non-null float64\n",
      "retweet_count         1986 non-null float64\n",
      "jpg_url               1986 non-null object\n",
      "img_num               1986 non-null float64\n",
      "p1                    1986 non-null object\n",
      "p1_conf               1986 non-null float64\n",
      "p1_dog                1986 non-null object\n",
      "p2                    1986 non-null object\n",
      "p2_conf               1986 non-null float64\n",
      "p2_dog                1986 non-null object\n",
      "p3                    1986 non-null object\n",
      "p3_conf               1986 non-null float64\n",
      "p3_dog                1986 non-null object\n",
      "dtypes: float64(6), int64(3), object(16)\n",
      "memory usage: 403.4+ KB\n"
     ]
    }
   ],
   "source": [
    "assert df.favorite_count.isnull().sum() == 0\n",
    "df.info()"
   ]
  },
  {
   "cell_type": "markdown",
   "metadata": {},
   "source": [
    "From above info() call, we can see that each column in our dataset has exactly 1986 values. \n",
    "\n",
    "##### Define Cleaning issue - Remove rows with non standard numerator and denominator\n",
    "\n",
    "Lets address the broad range numerator and denominator values. Look at the tweets whose denominators are not equal to 10 and see the actual tweets."
   ]
  },
  {
   "cell_type": "code",
   "execution_count": 24,
   "metadata": {},
   "outputs": [
    {
     "data": {
      "text/html": [
       "<div>\n",
       "<style scoped>\n",
       "    .dataframe tbody tr th:only-of-type {\n",
       "        vertical-align: middle;\n",
       "    }\n",
       "\n",
       "    .dataframe tbody tr th {\n",
       "        vertical-align: top;\n",
       "    }\n",
       "\n",
       "    .dataframe thead th {\n",
       "        text-align: right;\n",
       "    }\n",
       "</style>\n",
       "<table border=\"1\" class=\"dataframe\">\n",
       "  <thead>\n",
       "    <tr style=\"text-align: right;\">\n",
       "      <th></th>\n",
       "      <th>tweet_id</th>\n",
       "      <th>rating_numerator</th>\n",
       "      <th>text</th>\n",
       "    </tr>\n",
       "  </thead>\n",
       "  <tbody>\n",
       "    <tr>\n",
       "      <th>449</th>\n",
       "      <td>820690176645140481</td>\n",
       "      <td>84</td>\n",
       "      <td>The floofs have been released I repeat the flo...</td>\n",
       "    </tr>\n",
       "    <tr>\n",
       "      <th>533</th>\n",
       "      <td>810984652412424192</td>\n",
       "      <td>24</td>\n",
       "      <td>Meet Sam. She smiles 24/7 &amp;amp; secretly aspir...</td>\n",
       "    </tr>\n",
       "    <tr>\n",
       "      <th>713</th>\n",
       "      <td>786709082849828864</td>\n",
       "      <td>75</td>\n",
       "      <td>This is Logan, the Chow who lived. He solemnly...</td>\n",
       "    </tr>\n",
       "    <tr>\n",
       "      <th>782</th>\n",
       "      <td>778027034220126208</td>\n",
       "      <td>27</td>\n",
       "      <td>This is Sophie. She's a Jubilant Bush Pupper. ...</td>\n",
       "    </tr>\n",
       "    <tr>\n",
       "      <th>925</th>\n",
       "      <td>758467244762497024</td>\n",
       "      <td>165</td>\n",
       "      <td>Why does this never happen at my front door......</td>\n",
       "    </tr>\n",
       "    <tr>\n",
       "      <th>1003</th>\n",
       "      <td>749981277374128128</td>\n",
       "      <td>1776</td>\n",
       "      <td>This is Atticus. He's quite simply America af....</td>\n",
       "    </tr>\n",
       "    <tr>\n",
       "      <th>1144</th>\n",
       "      <td>731156023742988288</td>\n",
       "      <td>204</td>\n",
       "      <td>Say hello to this unbelievably well behaved sq...</td>\n",
       "    </tr>\n",
       "    <tr>\n",
       "      <th>1226</th>\n",
       "      <td>716439118184652801</td>\n",
       "      <td>50</td>\n",
       "      <td>This is Bluebert. He just saw that both #Final...</td>\n",
       "    </tr>\n",
       "    <tr>\n",
       "      <th>1252</th>\n",
       "      <td>713900603437621249</td>\n",
       "      <td>99</td>\n",
       "      <td>Happy Saturday here's 9 puppers on a bench. 99...</td>\n",
       "    </tr>\n",
       "    <tr>\n",
       "      <th>1278</th>\n",
       "      <td>710658690886586372</td>\n",
       "      <td>80</td>\n",
       "      <td>Here's a brigade of puppers. All look very pre...</td>\n",
       "    </tr>\n",
       "    <tr>\n",
       "      <th>1298</th>\n",
       "      <td>709198395643068416</td>\n",
       "      <td>45</td>\n",
       "      <td>From left to right:\\nCletus, Jerome, Alejandro...</td>\n",
       "    </tr>\n",
       "    <tr>\n",
       "      <th>1375</th>\n",
       "      <td>704054845121142784</td>\n",
       "      <td>60</td>\n",
       "      <td>Here is a whole flock of puppers.  60/50 I'll ...</td>\n",
       "    </tr>\n",
       "    <tr>\n",
       "      <th>1457</th>\n",
       "      <td>697463031882764288</td>\n",
       "      <td>44</td>\n",
       "      <td>Happy Wednesday here's a bucket of pups. 44/40...</td>\n",
       "    </tr>\n",
       "    <tr>\n",
       "      <th>1659</th>\n",
       "      <td>684222868335505415</td>\n",
       "      <td>121</td>\n",
       "      <td>Someone help the girl is being mugged. Several...</td>\n",
       "    </tr>\n",
       "    <tr>\n",
       "      <th>1736</th>\n",
       "      <td>680494726643068929</td>\n",
       "      <td>26</td>\n",
       "      <td>Here we have uncovered an entire battalion of ...</td>\n",
       "    </tr>\n",
       "    <tr>\n",
       "      <th>1804</th>\n",
       "      <td>677716515794329600</td>\n",
       "      <td>144</td>\n",
       "      <td>IT'S PUPPERGEDDON. Total of 144/120 ...I think...</td>\n",
       "    </tr>\n",
       "    <tr>\n",
       "      <th>1868</th>\n",
       "      <td>675853064436391936</td>\n",
       "      <td>88</td>\n",
       "      <td>Here we have an entire platoon of puppers. Tot...</td>\n",
       "    </tr>\n",
       "    <tr>\n",
       "      <th>2099</th>\n",
       "      <td>670842764863651840</td>\n",
       "      <td>420</td>\n",
       "      <td>After so many requests... here you go.\\n\\nGood...</td>\n",
       "    </tr>\n",
       "  </tbody>\n",
       "</table>\n",
       "</div>"
      ],
      "text/plain": [
       "                tweet_id  rating_numerator  \\\n",
       "449   820690176645140481                84   \n",
       "533   810984652412424192                24   \n",
       "713   786709082849828864                75   \n",
       "782   778027034220126208                27   \n",
       "925   758467244762497024               165   \n",
       "1003  749981277374128128              1776   \n",
       "1144  731156023742988288               204   \n",
       "1226  716439118184652801                50   \n",
       "1252  713900603437621249                99   \n",
       "1278  710658690886586372                80   \n",
       "1298  709198395643068416                45   \n",
       "1375  704054845121142784                60   \n",
       "1457  697463031882764288                44   \n",
       "1659  684222868335505415               121   \n",
       "1736  680494726643068929                26   \n",
       "1804  677716515794329600               144   \n",
       "1868  675853064436391936                88   \n",
       "2099  670842764863651840               420   \n",
       "\n",
       "                                                   text  \n",
       "449   The floofs have been released I repeat the flo...  \n",
       "533   Meet Sam. She smiles 24/7 &amp; secretly aspir...  \n",
       "713   This is Logan, the Chow who lived. He solemnly...  \n",
       "782   This is Sophie. She's a Jubilant Bush Pupper. ...  \n",
       "925   Why does this never happen at my front door......  \n",
       "1003  This is Atticus. He's quite simply America af....  \n",
       "1144  Say hello to this unbelievably well behaved sq...  \n",
       "1226  This is Bluebert. He just saw that both #Final...  \n",
       "1252  Happy Saturday here's 9 puppers on a bench. 99...  \n",
       "1278  Here's a brigade of puppers. All look very pre...  \n",
       "1298  From left to right:\\nCletus, Jerome, Alejandro...  \n",
       "1375  Here is a whole flock of puppers.  60/50 I'll ...  \n",
       "1457  Happy Wednesday here's a bucket of pups. 44/40...  \n",
       "1659  Someone help the girl is being mugged. Several...  \n",
       "1736  Here we have uncovered an entire battalion of ...  \n",
       "1804  IT'S PUPPERGEDDON. Total of 144/120 ...I think...  \n",
       "1868  Here we have an entire platoon of puppers. Tot...  \n",
       "2099  After so many requests... here you go.\\n\\nGood...  "
      ]
     },
     "execution_count": 24,
     "metadata": {},
     "output_type": "execute_result"
    }
   ],
   "source": [
    "non_standard_numerators = df.query(\"rating_numerator > 20\")[[\"tweet_id\", \"rating_numerator\", \"text\"]]\n",
    "non_standard_numerators"
   ]
  },
  {
   "cell_type": "code",
   "execution_count": 25,
   "metadata": {
    "scrolled": true
   },
   "outputs": [
    {
     "data": {
      "text/html": [
       "<div>\n",
       "<style scoped>\n",
       "    .dataframe tbody tr th:only-of-type {\n",
       "        vertical-align: middle;\n",
       "    }\n",
       "\n",
       "    .dataframe tbody tr th {\n",
       "        vertical-align: top;\n",
       "    }\n",
       "\n",
       "    .dataframe thead th {\n",
       "        text-align: right;\n",
       "    }\n",
       "</style>\n",
       "<table border=\"1\" class=\"dataframe\">\n",
       "  <thead>\n",
       "    <tr style=\"text-align: right;\">\n",
       "      <th></th>\n",
       "      <th>tweet_id</th>\n",
       "      <th>rating_denominator</th>\n",
       "      <th>text</th>\n",
       "    </tr>\n",
       "  </thead>\n",
       "  <tbody>\n",
       "    <tr>\n",
       "      <th>449</th>\n",
       "      <td>820690176645140481</td>\n",
       "      <td>70</td>\n",
       "      <td>The floofs have been released I repeat the floofs have been released. 84/70 https://t.co/NIYC820tmd</td>\n",
       "    </tr>\n",
       "    <tr>\n",
       "      <th>533</th>\n",
       "      <td>810984652412424192</td>\n",
       "      <td>7</td>\n",
       "      <td>Meet Sam. She smiles 24/7 &amp;amp; secretly aspires to be a reindeer. \\nKeep Sam smiling by clicking and sharing this link:\\nhttps://t.co/98tB8y7y7t https://t.co/LouL5vdvxx</td>\n",
       "    </tr>\n",
       "    <tr>\n",
       "      <th>925</th>\n",
       "      <td>758467244762497024</td>\n",
       "      <td>150</td>\n",
       "      <td>Why does this never happen at my front door... 165/150 https://t.co/HmwrdfEfUE</td>\n",
       "    </tr>\n",
       "    <tr>\n",
       "      <th>1092</th>\n",
       "      <td>740373189193256964</td>\n",
       "      <td>11</td>\n",
       "      <td>After so many requests, this is Bretagne. She was the last surviving 9/11 search dog, and our second ever 14/10. RIP https://t.co/XAVDNDaVgQ</td>\n",
       "    </tr>\n",
       "    <tr>\n",
       "      <th>1144</th>\n",
       "      <td>731156023742988288</td>\n",
       "      <td>170</td>\n",
       "      <td>Say hello to this unbelievably well behaved squad of doggos. 204/170 would try to pet all at once https://t.co/yGQI3He3xv</td>\n",
       "    </tr>\n",
       "    <tr>\n",
       "      <th>1189</th>\n",
       "      <td>722974582966214656</td>\n",
       "      <td>20</td>\n",
       "      <td>Happy 4/20 from the squad! 13/10 for all https://t.co/eV1diwds8a</td>\n",
       "    </tr>\n",
       "    <tr>\n",
       "      <th>1226</th>\n",
       "      <td>716439118184652801</td>\n",
       "      <td>50</td>\n",
       "      <td>This is Bluebert. He just saw that both #FinalFur match ups are split 50/50. Amazed af. 11/10 https://t.co/Kky1DPG4iq</td>\n",
       "    </tr>\n",
       "    <tr>\n",
       "      <th>1252</th>\n",
       "      <td>713900603437621249</td>\n",
       "      <td>90</td>\n",
       "      <td>Happy Saturday here's 9 puppers on a bench. 99/90 good work everybody https://t.co/mpvaVxKmc1</td>\n",
       "    </tr>\n",
       "    <tr>\n",
       "      <th>1278</th>\n",
       "      <td>710658690886586372</td>\n",
       "      <td>80</td>\n",
       "      <td>Here's a brigade of puppers. All look very prepared for whatever happens next. 80/80 https://t.co/0eb7R1Om12</td>\n",
       "    </tr>\n",
       "    <tr>\n",
       "      <th>1298</th>\n",
       "      <td>709198395643068416</td>\n",
       "      <td>50</td>\n",
       "      <td>From left to right:\\nCletus, Jerome, Alejandro, Burp, &amp;amp; Titson\\nNone know where camera is. 45/50 would hug all at once https://t.co/sedre1ivTK</td>\n",
       "    </tr>\n",
       "    <tr>\n",
       "      <th>1375</th>\n",
       "      <td>704054845121142784</td>\n",
       "      <td>50</td>\n",
       "      <td>Here is a whole flock of puppers.  60/50 I'll take the lot https://t.co/9dpcw6MdWa</td>\n",
       "    </tr>\n",
       "    <tr>\n",
       "      <th>1457</th>\n",
       "      <td>697463031882764288</td>\n",
       "      <td>40</td>\n",
       "      <td>Happy Wednesday here's a bucket of pups. 44/40 would pet all at once https://t.co/HppvrYuamZ</td>\n",
       "    </tr>\n",
       "    <tr>\n",
       "      <th>1659</th>\n",
       "      <td>684222868335505415</td>\n",
       "      <td>110</td>\n",
       "      <td>Someone help the girl is being mugged. Several are distracting her while two steal her shoes. Clever puppers 121/110 https://t.co/1zfnTJLt55</td>\n",
       "    </tr>\n",
       "    <tr>\n",
       "      <th>1686</th>\n",
       "      <td>682962037429899265</td>\n",
       "      <td>11</td>\n",
       "      <td>This is Darrel. He just robbed a 7/11 and is in a high speed police chase. Was just spotted by the helicopter 10/10 https://t.co/7EsP8LmSp5</td>\n",
       "    </tr>\n",
       "    <tr>\n",
       "      <th>1804</th>\n",
       "      <td>677716515794329600</td>\n",
       "      <td>120</td>\n",
       "      <td>IT'S PUPPERGEDDON. Total of 144/120 ...I think https://t.co/ZanVtAtvIq</td>\n",
       "    </tr>\n",
       "    <tr>\n",
       "      <th>1868</th>\n",
       "      <td>675853064436391936</td>\n",
       "      <td>80</td>\n",
       "      <td>Here we have an entire platoon of puppers. Total score: 88/80 would pet all at once https://t.co/y93p6FLvVw</td>\n",
       "    </tr>\n",
       "    <tr>\n",
       "      <th>2360</th>\n",
       "      <td>666287406224695296</td>\n",
       "      <td>2</td>\n",
       "      <td>This is an Albanian 3 1/2 legged  Episcopalian. Loves well-polished hardwood flooring. Penis on the collar. 9/10 https://t.co/d9NcXFKwLv</td>\n",
       "    </tr>\n",
       "  </tbody>\n",
       "</table>\n",
       "</div>"
      ],
      "text/plain": [
       "                tweet_id  rating_denominator  \\\n",
       "449   820690176645140481  70                   \n",
       "533   810984652412424192  7                    \n",
       "925   758467244762497024  150                  \n",
       "1092  740373189193256964  11                   \n",
       "1144  731156023742988288  170                  \n",
       "1189  722974582966214656  20                   \n",
       "1226  716439118184652801  50                   \n",
       "1252  713900603437621249  90                   \n",
       "1278  710658690886586372  80                   \n",
       "1298  709198395643068416  50                   \n",
       "1375  704054845121142784  50                   \n",
       "1457  697463031882764288  40                   \n",
       "1659  684222868335505415  110                  \n",
       "1686  682962037429899265  11                   \n",
       "1804  677716515794329600  120                  \n",
       "1868  675853064436391936  80                   \n",
       "2360  666287406224695296  2                    \n",
       "\n",
       "                                                                                                                                                                           text  \n",
       "449   The floofs have been released I repeat the floofs have been released. 84/70 https://t.co/NIYC820tmd                                                                        \n",
       "533   Meet Sam. She smiles 24/7 &amp; secretly aspires to be a reindeer. \\nKeep Sam smiling by clicking and sharing this link:\\nhttps://t.co/98tB8y7y7t https://t.co/LouL5vdvxx  \n",
       "925   Why does this never happen at my front door... 165/150 https://t.co/HmwrdfEfUE                                                                                             \n",
       "1092  After so many requests, this is Bretagne. She was the last surviving 9/11 search dog, and our second ever 14/10. RIP https://t.co/XAVDNDaVgQ                               \n",
       "1144  Say hello to this unbelievably well behaved squad of doggos. 204/170 would try to pet all at once https://t.co/yGQI3He3xv                                                  \n",
       "1189  Happy 4/20 from the squad! 13/10 for all https://t.co/eV1diwds8a                                                                                                           \n",
       "1226  This is Bluebert. He just saw that both #FinalFur match ups are split 50/50. Amazed af. 11/10 https://t.co/Kky1DPG4iq                                                      \n",
       "1252  Happy Saturday here's 9 puppers on a bench. 99/90 good work everybody https://t.co/mpvaVxKmc1                                                                              \n",
       "1278  Here's a brigade of puppers. All look very prepared for whatever happens next. 80/80 https://t.co/0eb7R1Om12                                                               \n",
       "1298  From left to right:\\nCletus, Jerome, Alejandro, Burp, &amp; Titson\\nNone know where camera is. 45/50 would hug all at once https://t.co/sedre1ivTK                         \n",
       "1375  Here is a whole flock of puppers.  60/50 I'll take the lot https://t.co/9dpcw6MdWa                                                                                         \n",
       "1457  Happy Wednesday here's a bucket of pups. 44/40 would pet all at once https://t.co/HppvrYuamZ                                                                               \n",
       "1659  Someone help the girl is being mugged. Several are distracting her while two steal her shoes. Clever puppers 121/110 https://t.co/1zfnTJLt55                               \n",
       "1686  This is Darrel. He just robbed a 7/11 and is in a high speed police chase. Was just spotted by the helicopter 10/10 https://t.co/7EsP8LmSp5                                \n",
       "1804  IT'S PUPPERGEDDON. Total of 144/120 ...I think https://t.co/ZanVtAtvIq                                                                                                     \n",
       "1868  Here we have an entire platoon of puppers. Total score: 88/80 would pet all at once https://t.co/y93p6FLvVw                                                                \n",
       "2360  This is an Albanian 3 1/2 legged  Episcopalian. Loves well-polished hardwood flooring. Penis on the collar. 9/10 https://t.co/d9NcXFKwLv                                   "
      ]
     },
     "execution_count": 25,
     "metadata": {},
     "output_type": "execute_result"
    }
   ],
   "source": [
    "pd.set_option('display.max_colwidth', -1)\n",
    "non_standard_denominators = df.query(\"rating_denominator != 10\")[[\"tweet_id\", \"rating_denominator\", \"text\"]]\n",
    "non_standard_denominators"
   ]
  },
  {
   "cell_type": "markdown",
   "metadata": {},
   "source": [
    "Looking at above tweets, various strings such as `7/11`, `9/11` etc., were misinterpreted. And also some of the ratings involved decimal places in the numerators (like `9.75/10`). Some of the values such as `204/170` and `144/120` correspond to photos with multiple dogs in them. \n",
    "\n",
    "\n",
    "We can perform some manual cleanup for some of these entries and we can drop the rows for others. Since these entries only make up < 0.01% of the entire dataset and the ratings are one of the key aspects of this dataset, we can safely drop the inaccurate entries to faciliate good analysis.\n",
    "\n",
    "##### Code Cleaning issue - Remove rows with non standard numerator and denominator\n",
    "\n",
    "We can round up (or round down) for some of the above entries and correct the misinterpreted entries (like 7/11). We can drop the remaining entries."
   ]
  },
  {
   "cell_type": "code",
   "execution_count": 26,
   "metadata": {},
   "outputs": [],
   "source": [
    "df.loc[df.tweet_id == 810984652412424192, \"rating_numerator\"] = 9.75\n",
    "df.loc[df.tweet_id == 778027034220126208, \"rating_numerator\"] = 11.27\n",
    "df.loc[df.tweet_id == 722974582966214656, \"rating_numerator\"] = 13\n",
    "df.loc[df.tweet_id == 716439118184652801, \"rating_numerator\"] = 11\n",
    "df.loc[df.tweet_id == 682962037429899265, \"rating_numerator\"] = 10\n",
    "df.loc[df.tweet_id == 666287406224695296, \"rating_numerator\"] = 9\n",
    "\n",
    "df.loc[df.tweet_id == 740373189193256964, \"rating_denominator\"] = 14\n",
    "df.loc[df.tweet_id == 722974582966214656, \"rating_denominator\"] = 10\n",
    "df.loc[df.tweet_id == 716439118184652801, \"rating_denominator\"] = 10\n",
    "df.loc[df.tweet_id == 682962037429899265, \"rating_denominator\"] = 10\n",
    "df.loc[df.tweet_id == 666287406224695296, \"rating_denominator\"] = 10"
   ]
  },
  {
   "cell_type": "code",
   "execution_count": 27,
   "metadata": {},
   "outputs": [
    {
     "name": "stdout",
     "output_type": "stream",
     "text": [
      "<class 'pandas.core.frame.DataFrame'>\n",
      "Int64Index: 1969 entries, 0 to 2380\n",
      "Data columns (total 25 columns):\n",
      "tweet_id              1969 non-null int64\n",
      "timestamp             1969 non-null object\n",
      "source                1969 non-null object\n",
      "text                  1969 non-null object\n",
      "expanded_urls         1969 non-null object\n",
      "rating_numerator      1969 non-null float64\n",
      "rating_denominator    1969 non-null int64\n",
      "name                  1969 non-null object\n",
      "doggo                 1969 non-null object\n",
      "floofer               1969 non-null object\n",
      "pupper                1969 non-null object\n",
      "puppo                 1969 non-null object\n",
      "favorite_count        1969 non-null float64\n",
      "retweet_count         1969 non-null float64\n",
      "jpg_url               1969 non-null object\n",
      "img_num               1969 non-null float64\n",
      "p1                    1969 non-null object\n",
      "p1_conf               1969 non-null float64\n",
      "p1_dog                1969 non-null object\n",
      "p2                    1969 non-null object\n",
      "p2_conf               1969 non-null float64\n",
      "p2_dog                1969 non-null object\n",
      "p3                    1969 non-null object\n",
      "p3_conf               1969 non-null float64\n",
      "p3_dog                1969 non-null object\n",
      "dtypes: float64(7), int64(2), object(16)\n",
      "memory usage: 400.0+ KB\n"
     ]
    }
   ],
   "source": [
    "non_standard_numerators = df.query(\"rating_numerator > 20\")\n",
    "non_standard_denominators = df.query(\"rating_denominator != 10\")\n",
    "\n",
    "# Drop the above entries.\n",
    "df.drop(non_standard_numerators.index, axis=0, inplace=True, errors=\"ignore\")\n",
    "df.drop(non_standard_denominators.index, axis=0, inplace=True, errors=\"ignore\")\n",
    "df.info()"
   ]
  },
  {
   "cell_type": "markdown",
   "metadata": {},
   "source": [
    "##### Test Cleaning issue - Remove rows with non standard numerator and denominator"
   ]
  },
  {
   "cell_type": "code",
   "execution_count": 28,
   "metadata": {},
   "outputs": [],
   "source": [
    "assert df.rating_numerator.max() < 20\n",
    "assert df.rating_numerator.min() >= 0 \n",
    "assert df.rating_denominator.mean() == 10 "
   ]
  },
  {
   "cell_type": "markdown",
   "metadata": {},
   "source": [
    "##### Define Tidying issue - Consolidate dog category types\n",
    "\n",
    "Lets tidy up the `doggo`, `floofer` and other category columns by creating a single categorical variable called `dog_type` which can consolidate the four columns.\n",
    "\n",
    "##### Code Tidying issue - Consolidate dog category types"
   ]
  },
  {
   "cell_type": "code",
   "execution_count": 29,
   "metadata": {},
   "outputs": [
    {
     "data": {
      "text/plain": [
       "                 1663\n",
       "pupper           202 \n",
       "doggo            63  \n",
       "puppo            23  \n",
       "doggo,pupper     9   \n",
       "floofer          7   \n",
       "doggo,floofer    1   \n",
       "doggo,puppo      1   \n",
       "Name: dog_type, dtype: int64"
      ]
     },
     "execution_count": 29,
     "metadata": {},
     "output_type": "execute_result"
    }
   ],
   "source": [
    "df['dog_type'] = df[['doggo', 'floofer', 'pupper', 'puppo']].apply(lambda l: \",\".join(list(filter((\"None\").__ne__, l))), axis=1)\n",
    "df.dog_type.value_counts()"
   ]
  },
  {
   "cell_type": "markdown",
   "metadata": {},
   "source": [
    " Looking at above value counts, we can see that there are 11 rows which have more than one dog type. I looked at some of the tweets corresponding to multi dog type and there are various cases why this happens:\n",
    "\n",
    "- Invalid parsing algorithm. For example, \n",
    "  ```bash\n",
    "  This is Dido. Shes playing the lead role in \"Pupper Stops to Catch Snow Before Resuming Shadow Box with Dried Apple.\" 13/10 (IG: didodoggo)\n",
    "  ```\n",
    "  In the above tweet, presence of `didodoggo` was considered as `doggo`. These sort of things could be avoided by having a more sophisticated parsing algorithm (for e.g.: search for whole worlds only) .\n",
    "- Multiple dogs in single images.\n",
    "- Word `doggo` being used to refer to dogs in general rather than using its meaning as one of the dog stages. These can be avoided by using a much more sophisticated parsing algorithm (Natural language processing etc.,) or by manually cleaning up the data.\n",
    "\n",
    "For the scope of this project, I think it is a fair assumption to retain the above data as-is presenting the limiations of the column `dog_type` and then leave it to the descretion of the consumer of the dataset (like one can chose to drop the rows during analysis phase or can chose to split and expand the rows during analysis phase based on context)."
   ]
  },
  {
   "cell_type": "code",
   "execution_count": 30,
   "metadata": {},
   "outputs": [
    {
     "name": "stdout",
     "output_type": "stream",
     "text": [
      "<class 'pandas.core.frame.DataFrame'>\n",
      "Int64Index: 1969 entries, 0 to 2380\n",
      "Data columns (total 22 columns):\n",
      "tweet_id              1969 non-null int64\n",
      "timestamp             1969 non-null object\n",
      "source                1969 non-null object\n",
      "text                  1969 non-null object\n",
      "expanded_urls         1969 non-null object\n",
      "rating_numerator      1969 non-null float64\n",
      "rating_denominator    1969 non-null int64\n",
      "name                  1969 non-null object\n",
      "favorite_count        1969 non-null float64\n",
      "retweet_count         1969 non-null float64\n",
      "jpg_url               1969 non-null object\n",
      "img_num               1969 non-null float64\n",
      "p1                    1969 non-null object\n",
      "p1_conf               1969 non-null float64\n",
      "p1_dog                1969 non-null object\n",
      "p2                    1969 non-null object\n",
      "p2_conf               1969 non-null float64\n",
      "p2_dog                1969 non-null object\n",
      "p3                    1969 non-null object\n",
      "p3_conf               1969 non-null float64\n",
      "p3_dog                1969 non-null object\n",
      "dog_type              1969 non-null object\n",
      "dtypes: float64(7), int64(2), object(13)\n",
      "memory usage: 353.8+ KB\n"
     ]
    }
   ],
   "source": [
    "df.drop(columns=['doggo', 'floofer', 'pupper', 'puppo'], inplace=True)\n",
    "df.info()"
   ]
  },
  {
   "cell_type": "markdown",
   "metadata": {},
   "source": [
    "##### Test Tidying issue - Consolidate dog category types"
   ]
  },
  {
   "cell_type": "code",
   "execution_count": 31,
   "metadata": {},
   "outputs": [
    {
     "data": {
      "text/plain": [
       "                 1663\n",
       "pupper           202 \n",
       "doggo            63  \n",
       "puppo            23  \n",
       "doggo,pupper     9   \n",
       "floofer          7   \n",
       "doggo,floofer    1   \n",
       "doggo,puppo      1   \n",
       "Name: dog_type, dtype: int64"
      ]
     },
     "execution_count": 31,
     "metadata": {},
     "output_type": "execute_result"
    }
   ],
   "source": [
    "df.dog_type.value_counts()"
   ]
  },
  {
   "cell_type": "code",
   "execution_count": 32,
   "metadata": {},
   "outputs": [
    {
     "name": "stdout",
     "output_type": "stream",
     "text": [
      "<class 'pandas.core.frame.DataFrame'>\n",
      "Int64Index: 1969 entries, 0 to 2380\n",
      "Data columns (total 22 columns):\n",
      "tweet_id              1969 non-null int64\n",
      "timestamp             1969 non-null object\n",
      "source                1969 non-null object\n",
      "text                  1969 non-null object\n",
      "expanded_urls         1969 non-null object\n",
      "rating_numerator      1969 non-null float64\n",
      "rating_denominator    1969 non-null int64\n",
      "name                  1969 non-null object\n",
      "favorite_count        1969 non-null float64\n",
      "retweet_count         1969 non-null float64\n",
      "jpg_url               1969 non-null object\n",
      "img_num               1969 non-null float64\n",
      "p1                    1969 non-null object\n",
      "p1_conf               1969 non-null float64\n",
      "p1_dog                1969 non-null object\n",
      "p2                    1969 non-null object\n",
      "p2_conf               1969 non-null float64\n",
      "p2_dog                1969 non-null object\n",
      "p3                    1969 non-null object\n",
      "p3_conf               1969 non-null float64\n",
      "p3_dog                1969 non-null object\n",
      "dog_type              1969 non-null object\n",
      "dtypes: float64(7), int64(2), object(13)\n",
      "memory usage: 353.8+ KB\n"
     ]
    }
   ],
   "source": [
    "df.info()"
   ]
  },
  {
   "cell_type": "markdown",
   "metadata": {},
   "source": [
    "##### Define Tidying issue - Consolidate 3 predicitons in to one (of dog type)\n",
    "\n",
    "We have three columns 'p1_conf', 'p2_conf', 'p3_conf' each giving a predicitability confidence on prediction. For the scope of current analysis, we can pick the predicition that has `pX_dog = True` and use the breed type.\n",
    "\n",
    "##### Code Tidying issue - Consolidate 3 predicitons in to one (of dog type)"
   ]
  },
  {
   "cell_type": "code",
   "execution_count": 33,
   "metadata": {},
   "outputs": [
    {
     "data": {
      "text/plain": [
       "True    1969\n",
       "dtype: int64"
      ]
     },
     "execution_count": 33,
     "metadata": {},
     "output_type": "execute_result"
    }
   ],
   "source": [
    "df[['p1_conf', 'p2_conf', 'p3_conf']].apply(lambda l: (l[0] > l[1]) and (l[1] > l[2]), axis=1).value_counts()"
   ]
  },
  {
   "cell_type": "markdown",
   "metadata": {},
   "source": [
    "The above expression shows us that for ALL entries, p1 > p2 > p3 and thus we can safely rely on confidential score order."
   ]
  },
  {
   "cell_type": "code",
   "execution_count": 34,
   "metadata": {},
   "outputs": [],
   "source": [
    "def calculate_breed(values):\n",
    "    # We have 9 values in groups of 3.\n",
    "    # Each group has A breed name, confidential score, and a boolean value representing if the breed is a dog.\n",
    "    if values[2]:\n",
    "        return values[0], values[1]\n",
    "    elif values[5]:\n",
    "        return values[3], values[4]\n",
    "    elif values[8]:\n",
    "        return values[6], values[7]\n",
    "    else:\n",
    "        return \"Unknown\", 0.0\n",
    "\n",
    "prediction_columns = ['p1', 'p1_conf', 'p1_dog', 'p2', 'p2_conf', 'p2_dog', 'p3', 'p3_conf', 'p3_dog']\n",
    "df[\"breed\"], df[\"breed_conf\"] = zip(*df[prediction_columns].apply(lambda x: calculate_breed(x), axis=1))"
   ]
  },
  {
   "cell_type": "code",
   "execution_count": 35,
   "metadata": {},
   "outputs": [],
   "source": [
    "# Drop the prediction_columns from our dataframe and then store it.\n",
    "df.drop(columns=prediction_columns, inplace=True, errors=\"ignore\")"
   ]
  },
  {
   "cell_type": "markdown",
   "metadata": {},
   "source": [
    "##### Test Tidying issue - Consolidate 3 predicitons in to one (of dog type)"
   ]
  },
  {
   "cell_type": "code",
   "execution_count": 36,
   "metadata": {},
   "outputs": [
    {
     "data": {
      "text/plain": [
       "Unknown               304\n",
       "golden_retriever      156\n",
       "Labrador_retriever    103\n",
       "Pembroke              96 \n",
       "Chihuahua             90 \n",
       "Name: breed, dtype: int64"
      ]
     },
     "execution_count": 36,
     "metadata": {},
     "output_type": "execute_result"
    }
   ],
   "source": [
    "df.breed.value_counts().head(5)"
   ]
  },
  {
   "cell_type": "code",
   "execution_count": 37,
   "metadata": {},
   "outputs": [
    {
     "name": "stdout",
     "output_type": "stream",
     "text": [
      "<class 'pandas.core.frame.DataFrame'>\n",
      "Int64Index: 1969 entries, 0 to 2380\n",
      "Data columns (total 15 columns):\n",
      "tweet_id              1969 non-null int64\n",
      "timestamp             1969 non-null object\n",
      "source                1969 non-null object\n",
      "text                  1969 non-null object\n",
      "expanded_urls         1969 non-null object\n",
      "rating_numerator      1969 non-null float64\n",
      "rating_denominator    1969 non-null int64\n",
      "name                  1969 non-null object\n",
      "favorite_count        1969 non-null float64\n",
      "retweet_count         1969 non-null float64\n",
      "jpg_url               1969 non-null object\n",
      "img_num               1969 non-null float64\n",
      "dog_type              1969 non-null object\n",
      "breed                 1969 non-null object\n",
      "breed_conf            1969 non-null float64\n",
      "dtypes: float64(5), int64(2), object(8)\n",
      "memory usage: 246.1+ KB\n"
     ]
    }
   ],
   "source": [
    "df.info()"
   ]
  },
  {
   "cell_type": "markdown",
   "metadata": {},
   "source": [
    "##### Define Cleaning issue - Make source as a category variable\n",
    "\n",
    "Clean up the source variable and mark it as a category variable\n",
    "\n",
    "##### Code Cleaning issue - Make source as a category variable"
   ]
  },
  {
   "cell_type": "code",
   "execution_count": 38,
   "metadata": {},
   "outputs": [
    {
     "data": {
      "text/plain": [
       "<a href=\"http://twitter.com/download/iphone\" rel=\"nofollow\">Twitter for iPhone</a>     1931\n",
       "<a href=\"http://twitter.com\" rel=\"nofollow\">Twitter Web Client</a>                     28  \n",
       "<a href=\"https://about.twitter.com/products/tweetdeck\" rel=\"nofollow\">TweetDeck</a>    10  \n",
       "Name: source, dtype: int64"
      ]
     },
     "execution_count": 38,
     "metadata": {},
     "output_type": "execute_result"
    }
   ],
   "source": [
    "df.source.value_counts()"
   ]
  },
  {
   "cell_type": "code",
   "execution_count": 39,
   "metadata": {},
   "outputs": [],
   "source": [
    "df.source = df.source.apply(lambda x : x.rsplit('>', 2)[-2].replace(\"</a\", \"\"))"
   ]
  },
  {
   "cell_type": "markdown",
   "metadata": {},
   "source": [
    "##### Test Cleaning issue - Make source as a category variable"
   ]
  },
  {
   "cell_type": "code",
   "execution_count": 40,
   "metadata": {},
   "outputs": [
    {
     "data": {
      "text/plain": [
       "Twitter for iPhone    1931\n",
       "Twitter Web Client    28  \n",
       "TweetDeck             10  \n",
       "Name: source, dtype: int64"
      ]
     },
     "execution_count": 40,
     "metadata": {},
     "output_type": "execute_result"
    }
   ],
   "source": [
    "df.source.value_counts()"
   ]
  },
  {
   "cell_type": "markdown",
   "metadata": {},
   "source": [
    "##### Define Cleaning issue - Appropriate data types for all columns\n",
    "\n",
    "Convert the tweet_id to be a string and change datatypes for other columns as appropriate.\n",
    "\n",
    "##### Code Cleaning issue - Appropriate data types for all columns"
   ]
  },
  {
   "cell_type": "code",
   "execution_count": 41,
   "metadata": {},
   "outputs": [],
   "source": [
    "df.tweet_id = df.tweet_id.astype(str)\n",
    "df.img_num = df.img_num.astype(int)\n",
    "df.favorite_count = df.favorite_count.astype(int)\n",
    "df.retweet_count = df.retweet_count.astype(int)\n",
    "df.rating_denominator = df.rating_denominator.astype(int) # keep the numerator as float.\n",
    "df.timestamp = pd.to_datetime(df.timestamp)\n",
    "df.dog_type = df.dog_type.astype('category')\n",
    "df.source = df.source.astype('category')"
   ]
  },
  {
   "cell_type": "markdown",
   "metadata": {},
   "source": [
    "##### Test Cleaning issue - Appropriate data types for all columns"
   ]
  },
  {
   "cell_type": "code",
   "execution_count": 42,
   "metadata": {},
   "outputs": [
    {
     "name": "stdout",
     "output_type": "stream",
     "text": [
      "<class 'pandas.core.frame.DataFrame'>\n",
      "Int64Index: 1969 entries, 0 to 2380\n",
      "Data columns (total 15 columns):\n",
      "tweet_id              1969 non-null object\n",
      "timestamp             1969 non-null datetime64[ns]\n",
      "source                1969 non-null category\n",
      "text                  1969 non-null object\n",
      "expanded_urls         1969 non-null object\n",
      "rating_numerator      1969 non-null float64\n",
      "rating_denominator    1969 non-null int64\n",
      "name                  1969 non-null object\n",
      "favorite_count        1969 non-null int64\n",
      "retweet_count         1969 non-null int64\n",
      "jpg_url               1969 non-null object\n",
      "img_num               1969 non-null int64\n",
      "dog_type              1969 non-null category\n",
      "breed                 1969 non-null object\n",
      "breed_conf            1969 non-null float64\n",
      "dtypes: category(2), datetime64[ns](1), float64(2), int64(4), object(6)\n",
      "memory usage: 219.7+ KB\n"
     ]
    }
   ],
   "source": [
    "df.info()"
   ]
  },
  {
   "cell_type": "markdown",
   "metadata": {},
   "source": [
    "### Storing the Data\n",
    "\n",
    "Now that we have a cleaned data frame, lets go ahead and save our cleaned data in a file named `twitter_archive_master.csv` for future reference. We can default to using `utf-8` encoding."
   ]
  },
  {
   "cell_type": "code",
   "execution_count": 43,
   "metadata": {},
   "outputs": [],
   "source": [
    "df.to_csv(\"twitter_archive_master.csv\", encoding='utf-8', index=False)"
   ]
  },
  {
   "cell_type": "markdown",
   "metadata": {},
   "source": [
    "### Analysis and Visualization"
   ]
  },
  {
   "cell_type": "code",
   "execution_count": 44,
   "metadata": {},
   "outputs": [
    {
     "data": {
      "image/png": "[encoded data removed]",
      "text/plain": [
       "<matplotlib.figure.Figure at 0x7f0dec07f400>"
      ]
     },
     "metadata": {
      "needs_background": "light"
     },
     "output_type": "display_data"
    }
   ],
   "source": [
    "df.hist(figsize = [15,15]);"
   ]
  },
  {
   "cell_type": "markdown",
   "metadata": {},
   "source": [
    "Looking at above initial data we can make some preliminary observations :\n",
    "\n",
    "- Most number of tweets lie in 0 to 20K favorite count\n",
    "- Most number of tweets lie in 0 to 10K retweet count\n",
    "- Most number of tweets have only one image.\n",
    "- Most dogs are rated between 8 and 14 (we eliminated some outliers)\n",
    "\n",
    "Lets make some more deeper analysis on each column(s).\n",
    "\n",
    "#### Q: What are the most popular breeds by Number of tweets ?"
   ]
  },
  {
   "cell_type": "code",
   "execution_count": 45,
   "metadata": {},
   "outputs": [
    {
     "data": {
      "text/plain": [
       "Unknown               304\n",
       "golden_retriever      156\n",
       "Labrador_retriever    103\n",
       "Pembroke              96 \n",
       "Chihuahua             90 \n",
       "pug                   63 \n",
       "chow                  51 \n",
       "toy_poodle            49 \n",
       "Samoyed               42 \n",
       "Pomeranian            40 \n",
       "Name: breed, dtype: int64"
      ]
     },
     "execution_count": 45,
     "metadata": {},
     "output_type": "execute_result"
    }
   ],
   "source": [
    "df.breed.value_counts().head(10)"
   ]
  },
  {
   "cell_type": "markdown",
   "metadata": {},
   "source": [
    "Lets remove the Unknown breed and plot a graph to see the data better."
   ]
  },
  {
   "cell_type": "code",
   "execution_count": 46,
   "metadata": {},
   "outputs": [
    {
     "data": {
      "image/png": "[encoded data removed]",
      "text/plain": [
       "<matplotlib.figure.Figure at 0x7f0de9eded30>"
      ]
     },
     "metadata": {
      "needs_background": "light"
     },
     "output_type": "display_data"
    }
   ],
   "source": [
    "breeds = df[df['breed'] != 'Unknown'].breed\n",
    "breeds.value_counts().nlargest(30).plot.bar(figsize = [20, 10])\n",
    "plt.xlabel(\"Dog breeds\")\n",
    "plt.ylabel(\"Number of Predictions for breed\")\n",
    "plt.title(\"Dog breeds vs Number of Predictions\");"
   ]
  },
  {
   "cell_type": "markdown",
   "metadata": {},
   "source": [
    "From the above graph we can see that retrievers are the top two breeds followed by Pembroke, Chihuahua and pug. \n",
    "\n",
    "#### Q : Popular dog by rating average ?"
   ]
  },
  {
   "cell_type": "code",
   "execution_count": 47,
   "metadata": {},
   "outputs": [
    {
     "data": {
      "image/png": "[encoded data removed]",
      "text/plain": [
       "<matplotlib.figure.Figure at 0x7f0de9dcfac8>"
      ]
     },
     "metadata": {
      "needs_background": "light"
     },
     "output_type": "display_data"
    }
   ],
   "source": [
    "# Filter out the breeds that have less than 10 entries\n",
    "t = df.query(\"breed != 'Unknown'\").groupby(by=\"breed\").filter(lambda x: len(x) > 10)\n",
    "\n",
    "# Use the filtered breeds to see the trend of rating amongst them\n",
    "t.groupby(by=\"breed\")['rating_numerator'].mean().sort_values(ascending=False).head(30).plot.bar(figsize = [20, 10]);\n",
    "plt.xlabel(\"Dog breeds\")\n",
    "plt.ylabel(\"Rating average\")\n",
    "plt.title(\"Dog breeds vs Rating averages\");"
   ]
  },
  {
   "cell_type": "markdown",
   "metadata": {},
   "source": [
    "The above bar has Golden retriever and Pembroke amongst top 5 that were also present in the top 5 when ordered by number of images."
   ]
  },
  {
   "cell_type": "markdown",
   "metadata": {},
   "source": [
    "#### Q : What are dog stage distributions ?"
   ]
  },
  {
   "cell_type": "code",
   "execution_count": 48,
   "metadata": {},
   "outputs": [
    {
     "data": {
      "image/png": "[encoded data removed]",
      "text/plain": [
       "<matplotlib.figure.Figure at 0x7f0de9c764e0>"
      ]
     },
     "metadata": {
      "needs_background": "light"
     },
     "output_type": "display_data"
    }
   ],
   "source": [
    "df.dog_type.value_counts().nsmallest(7).plot.bar(title=\"Dog Stage Distribution\");"
   ]
  },
  {
   "cell_type": "markdown",
   "metadata": {},
   "source": [
    "Looking at above graph, we can see that puppers are most common stage of the dog. This may be because most number of tweets are from people excited about their new pups and posting multiple pics on social media during early stages of their dog's growth."
   ]
  },
  {
   "cell_type": "markdown",
   "metadata": {},
   "source": [
    "#### Q : What is the most common source for posting tweets ?"
   ]
  },
  {
   "cell_type": "code",
   "execution_count": 49,
   "metadata": {},
   "outputs": [
    {
     "data": {
      "image/png": "[encoded data removed]",
      "text/plain": [
       "<matplotlib.figure.Figure at 0x7f0de9c62668>"
      ]
     },
     "metadata": {
      "needs_background": "light"
     },
     "output_type": "display_data"
    }
   ],
   "source": [
    "df.source.value_counts().plot.bar();"
   ]
  },
  {
   "cell_type": "markdown",
   "metadata": {},
   "source": [
    "This reveals an interesting statistic that the User (or users ?) handle of we rate dogs definitely uses the twitter app for iPhone for posting most number of the tweets. More interestingly, there was a fourth source in the initial dataset given to us which completeley disappeared after cleaning our dataset. This may be because the other source (`Vine - Make a Scene` - which had 91 tweets) could be coming from retweets and such. "
   ]
  }
 ],
 "metadata": {
  "kernelspec": {
   "display_name": "Python 3",
   "language": "python",
   "name": "python3"
  },
  "language_info": {
   "codemirror_mode": {
    "name": "ipython",
    "version": 3
   },
   "file_extension": ".py",
   "mimetype": "text/x-python",
   "name": "python",
   "nbconvert_exporter": "python",
   "pygments_lexer": "ipython3",
   "version": "3.6.3"
  }
 },
 "nbformat": 4,
 "nbformat_minor": 2
}
